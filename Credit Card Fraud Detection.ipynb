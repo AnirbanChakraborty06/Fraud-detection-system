{
 "cells": [
  {
   "cell_type": "markdown",
   "id": "e38df88d",
   "metadata": {},
   "source": [
    "# Credit Card Fraud Detection"
   ]
  },
  {
   "cell_type": "markdown",
   "id": "000a91ab",
   "metadata": {},
   "source": [
    "## 1. Abstract"
   ]
  },
  {
   "cell_type": "markdown",
   "id": "0a652c2e",
   "metadata": {},
   "source": [
    "Fraud detection is one of the most popular regions of application of machine learning. Credit card fraud detection is a specific aspect of that.\n",
    "\n",
    "We have at hand a dataset based on the transactions made by credit cards in September 2013 by European card-holders over 2 days. The dataset is a transformed version of the original data; PCA transformation is done to produce a number of numerical valued features. The target is a binary indicator denoting fraud/no fraud. Our aim is to build a classification model to predict/identify the fraud cases.\n",
    "\n",
    "The source of this dataset is from <a href=\"https://www.kaggle.com/mlg-ulb/creditcardfraud\">Kaggle</a>, thanks to Machine Learning Group - ULB (Université Libre de Bruxelles)."
   ]
  },
  {
   "cell_type": "markdown",
   "id": "c056779e",
   "metadata": {},
   "source": [
    "## 2. Imports"
   ]
  },
  {
   "cell_type": "code",
   "execution_count": 43,
   "id": "871f53d1",
   "metadata": {},
   "outputs": [],
   "source": [
    "import numpy as np\n",
    "import pandas as pd\n",
    "import matplotlib.pyplot as plt\n",
    "import seaborn as sns\n",
    "from functools import reduce\n",
    "from sklearn.model_selection import train_test_split, cross_val_score, cross_validate, StratifiedKFold, KFold, \\\n",
    "GridSearchCV, RandomizedSearchCV\n",
    "from sklearn.preprocessing import StandardScaler\n",
    "from sklearn.linear_model import LogisticRegression\n",
    "from sklearn.discriminant_analysis import LinearDiscriminantAnalysis, QuadraticDiscriminantAnalysis\n",
    "from scipy.stats import randint, uniform"
   ]
  },
  {
   "cell_type": "markdown",
   "id": "0a367c32",
   "metadata": {},
   "source": [
    "## 3. Loading the dataset"
   ]
  },
  {
   "cell_type": "code",
   "execution_count": 2,
   "id": "2a1bc331",
   "metadata": {},
   "outputs": [],
   "source": [
    "data = pd.read_csv('creditcard.csv')"
   ]
  },
  {
   "cell_type": "code",
   "execution_count": 3,
   "id": "4f9ca377",
   "metadata": {},
   "outputs": [
    {
     "data": {
      "text/html": [
       "<div>\n",
       "<style scoped>\n",
       "    .dataframe tbody tr th:only-of-type {\n",
       "        vertical-align: middle;\n",
       "    }\n",
       "\n",
       "    .dataframe tbody tr th {\n",
       "        vertical-align: top;\n",
       "    }\n",
       "\n",
       "    .dataframe thead th {\n",
       "        text-align: right;\n",
       "    }\n",
       "</style>\n",
       "<table border=\"1\" class=\"dataframe\">\n",
       "  <thead>\n",
       "    <tr style=\"text-align: right;\">\n",
       "      <th></th>\n",
       "      <th>Time</th>\n",
       "      <th>V1</th>\n",
       "      <th>V2</th>\n",
       "      <th>V3</th>\n",
       "      <th>V4</th>\n",
       "      <th>V5</th>\n",
       "      <th>V6</th>\n",
       "      <th>V7</th>\n",
       "      <th>V8</th>\n",
       "      <th>V9</th>\n",
       "      <th>...</th>\n",
       "      <th>V21</th>\n",
       "      <th>V22</th>\n",
       "      <th>V23</th>\n",
       "      <th>V24</th>\n",
       "      <th>V25</th>\n",
       "      <th>V26</th>\n",
       "      <th>V27</th>\n",
       "      <th>V28</th>\n",
       "      <th>Amount</th>\n",
       "      <th>Class</th>\n",
       "    </tr>\n",
       "  </thead>\n",
       "  <tbody>\n",
       "    <tr>\n",
       "      <th>0</th>\n",
       "      <td>0.0</td>\n",
       "      <td>-1.359807</td>\n",
       "      <td>-0.072781</td>\n",
       "      <td>2.536347</td>\n",
       "      <td>1.378155</td>\n",
       "      <td>-0.338321</td>\n",
       "      <td>0.462388</td>\n",
       "      <td>0.239599</td>\n",
       "      <td>0.098698</td>\n",
       "      <td>0.363787</td>\n",
       "      <td>...</td>\n",
       "      <td>-0.018307</td>\n",
       "      <td>0.277838</td>\n",
       "      <td>-0.110474</td>\n",
       "      <td>0.066928</td>\n",
       "      <td>0.128539</td>\n",
       "      <td>-0.189115</td>\n",
       "      <td>0.133558</td>\n",
       "      <td>-0.021053</td>\n",
       "      <td>149.62</td>\n",
       "      <td>0</td>\n",
       "    </tr>\n",
       "    <tr>\n",
       "      <th>1</th>\n",
       "      <td>0.0</td>\n",
       "      <td>1.191857</td>\n",
       "      <td>0.266151</td>\n",
       "      <td>0.166480</td>\n",
       "      <td>0.448154</td>\n",
       "      <td>0.060018</td>\n",
       "      <td>-0.082361</td>\n",
       "      <td>-0.078803</td>\n",
       "      <td>0.085102</td>\n",
       "      <td>-0.255425</td>\n",
       "      <td>...</td>\n",
       "      <td>-0.225775</td>\n",
       "      <td>-0.638672</td>\n",
       "      <td>0.101288</td>\n",
       "      <td>-0.339846</td>\n",
       "      <td>0.167170</td>\n",
       "      <td>0.125895</td>\n",
       "      <td>-0.008983</td>\n",
       "      <td>0.014724</td>\n",
       "      <td>2.69</td>\n",
       "      <td>0</td>\n",
       "    </tr>\n",
       "    <tr>\n",
       "      <th>2</th>\n",
       "      <td>1.0</td>\n",
       "      <td>-1.358354</td>\n",
       "      <td>-1.340163</td>\n",
       "      <td>1.773209</td>\n",
       "      <td>0.379780</td>\n",
       "      <td>-0.503198</td>\n",
       "      <td>1.800499</td>\n",
       "      <td>0.791461</td>\n",
       "      <td>0.247676</td>\n",
       "      <td>-1.514654</td>\n",
       "      <td>...</td>\n",
       "      <td>0.247998</td>\n",
       "      <td>0.771679</td>\n",
       "      <td>0.909412</td>\n",
       "      <td>-0.689281</td>\n",
       "      <td>-0.327642</td>\n",
       "      <td>-0.139097</td>\n",
       "      <td>-0.055353</td>\n",
       "      <td>-0.059752</td>\n",
       "      <td>378.66</td>\n",
       "      <td>0</td>\n",
       "    </tr>\n",
       "    <tr>\n",
       "      <th>3</th>\n",
       "      <td>1.0</td>\n",
       "      <td>-0.966272</td>\n",
       "      <td>-0.185226</td>\n",
       "      <td>1.792993</td>\n",
       "      <td>-0.863291</td>\n",
       "      <td>-0.010309</td>\n",
       "      <td>1.247203</td>\n",
       "      <td>0.237609</td>\n",
       "      <td>0.377436</td>\n",
       "      <td>-1.387024</td>\n",
       "      <td>...</td>\n",
       "      <td>-0.108300</td>\n",
       "      <td>0.005274</td>\n",
       "      <td>-0.190321</td>\n",
       "      <td>-1.175575</td>\n",
       "      <td>0.647376</td>\n",
       "      <td>-0.221929</td>\n",
       "      <td>0.062723</td>\n",
       "      <td>0.061458</td>\n",
       "      <td>123.50</td>\n",
       "      <td>0</td>\n",
       "    </tr>\n",
       "    <tr>\n",
       "      <th>4</th>\n",
       "      <td>2.0</td>\n",
       "      <td>-1.158233</td>\n",
       "      <td>0.877737</td>\n",
       "      <td>1.548718</td>\n",
       "      <td>0.403034</td>\n",
       "      <td>-0.407193</td>\n",
       "      <td>0.095921</td>\n",
       "      <td>0.592941</td>\n",
       "      <td>-0.270533</td>\n",
       "      <td>0.817739</td>\n",
       "      <td>...</td>\n",
       "      <td>-0.009431</td>\n",
       "      <td>0.798278</td>\n",
       "      <td>-0.137458</td>\n",
       "      <td>0.141267</td>\n",
       "      <td>-0.206010</td>\n",
       "      <td>0.502292</td>\n",
       "      <td>0.219422</td>\n",
       "      <td>0.215153</td>\n",
       "      <td>69.99</td>\n",
       "      <td>0</td>\n",
       "    </tr>\n",
       "  </tbody>\n",
       "</table>\n",
       "<p>5 rows × 31 columns</p>\n",
       "</div>"
      ],
      "text/plain": [
       "   Time        V1        V2        V3        V4        V5        V6        V7  \\\n",
       "0   0.0 -1.359807 -0.072781  2.536347  1.378155 -0.338321  0.462388  0.239599   \n",
       "1   0.0  1.191857  0.266151  0.166480  0.448154  0.060018 -0.082361 -0.078803   \n",
       "2   1.0 -1.358354 -1.340163  1.773209  0.379780 -0.503198  1.800499  0.791461   \n",
       "3   1.0 -0.966272 -0.185226  1.792993 -0.863291 -0.010309  1.247203  0.237609   \n",
       "4   2.0 -1.158233  0.877737  1.548718  0.403034 -0.407193  0.095921  0.592941   \n",
       "\n",
       "         V8        V9  ...       V21       V22       V23       V24       V25  \\\n",
       "0  0.098698  0.363787  ... -0.018307  0.277838 -0.110474  0.066928  0.128539   \n",
       "1  0.085102 -0.255425  ... -0.225775 -0.638672  0.101288 -0.339846  0.167170   \n",
       "2  0.247676 -1.514654  ...  0.247998  0.771679  0.909412 -0.689281 -0.327642   \n",
       "3  0.377436 -1.387024  ... -0.108300  0.005274 -0.190321 -1.175575  0.647376   \n",
       "4 -0.270533  0.817739  ... -0.009431  0.798278 -0.137458  0.141267 -0.206010   \n",
       "\n",
       "        V26       V27       V28  Amount  Class  \n",
       "0 -0.189115  0.133558 -0.021053  149.62      0  \n",
       "1  0.125895 -0.008983  0.014724    2.69      0  \n",
       "2 -0.139097 -0.055353 -0.059752  378.66      0  \n",
       "3 -0.221929  0.062723  0.061458  123.50      0  \n",
       "4  0.502292  0.219422  0.215153   69.99      0  \n",
       "\n",
       "[5 rows x 31 columns]"
      ]
     },
     "execution_count": 3,
     "metadata": {},
     "output_type": "execute_result"
    }
   ],
   "source": [
    "data.head(5)"
   ]
  },
  {
   "cell_type": "markdown",
   "id": "3a4e9ae0",
   "metadata": {},
   "source": [
    "## 4. Sanity checks"
   ]
  },
  {
   "cell_type": "markdown",
   "id": "f79e4d31",
   "metadata": {},
   "source": [
    "### 4.1 Missing values"
   ]
  },
  {
   "cell_type": "code",
   "execution_count": 4,
   "id": "4912324b",
   "metadata": {
    "scrolled": false
   },
   "outputs": [
    {
     "data": {
      "text/plain": [
       "Series([], dtype: object)"
      ]
     },
     "execution_count": 4,
     "metadata": {},
     "output_type": "execute_result"
    }
   ],
   "source": [
    "data.isnull().any().where(lambda x: x==True).dropna()"
   ]
  },
  {
   "cell_type": "markdown",
   "id": "c6bd53b5",
   "metadata": {},
   "source": [
    "**Therefore, there are no missing values to handle**."
   ]
  },
  {
   "cell_type": "markdown",
   "id": "03a66f98",
   "metadata": {},
   "source": [
    "### 4.2 Data-types"
   ]
  },
  {
   "cell_type": "code",
   "execution_count": 5,
   "id": "e4cc7a01",
   "metadata": {},
   "outputs": [
    {
     "data": {
      "text/plain": [
       "Time      float64\n",
       "V1        float64\n",
       "V2        float64\n",
       "V3        float64\n",
       "V4        float64\n",
       "V5        float64\n",
       "V6        float64\n",
       "V7        float64\n",
       "V8        float64\n",
       "V9        float64\n",
       "V10       float64\n",
       "V11       float64\n",
       "V12       float64\n",
       "V13       float64\n",
       "V14       float64\n",
       "V15       float64\n",
       "V16       float64\n",
       "V17       float64\n",
       "V18       float64\n",
       "V19       float64\n",
       "V20       float64\n",
       "V21       float64\n",
       "V22       float64\n",
       "V23       float64\n",
       "V24       float64\n",
       "V25       float64\n",
       "V26       float64\n",
       "V27       float64\n",
       "V28       float64\n",
       "Amount    float64\n",
       "Class       int64\n",
       "dtype: object"
      ]
     },
     "execution_count": 5,
     "metadata": {},
     "output_type": "execute_result"
    }
   ],
   "source": [
    "data.dtypes"
   ]
  },
  {
   "cell_type": "markdown",
   "id": "7723f655",
   "metadata": {},
   "source": [
    "Time is a measure of the amount of time since the earliest transaction in the dataset; natural for it to be in float64 form. V1-V28 (the outputs of PCA transformation) and Amount are float64 as per expectation. Class, supposed to be a binary-valued feature is int64. **So all is fine in terms of the data-types as well**."
   ]
  },
  {
   "cell_type": "markdown",
   "id": "8002c384",
   "metadata": {},
   "source": [
    "### 4.3 Time, Amount, Class value specific sanity checks"
   ]
  },
  {
   "cell_type": "code",
   "execution_count": 6,
   "id": "775736e3",
   "metadata": {},
   "outputs": [
    {
     "data": {
      "text/plain": [
       "Series([], Name: Time, dtype: float64)"
      ]
     },
     "execution_count": 6,
     "metadata": {},
     "output_type": "execute_result"
    }
   ],
   "source": [
    "data['Time'].where(lambda x: x<0).dropna()"
   ]
  },
  {
   "cell_type": "code",
   "execution_count": 7,
   "id": "56544f9a",
   "metadata": {},
   "outputs": [
    {
     "data": {
      "text/plain": [
       "Series([], Name: Amount, dtype: float64)"
      ]
     },
     "execution_count": 7,
     "metadata": {},
     "output_type": "execute_result"
    }
   ],
   "source": [
    "data['Amount'].where(lambda x: x<0).dropna()"
   ]
  },
  {
   "cell_type": "code",
   "execution_count": 8,
   "id": "6b4bfe79",
   "metadata": {},
   "outputs": [
    {
     "data": {
      "text/plain": [
       "0    0.998273\n",
       "1    0.001727\n",
       "Name: Class, dtype: float64"
      ]
     },
     "execution_count": 8,
     "metadata": {},
     "output_type": "execute_result"
    }
   ],
   "source": [
    "data['Class'].value_counts(normalize=True, dropna=False)"
   ]
  },
  {
   "cell_type": "markdown",
   "id": "14a21598",
   "metadata": {},
   "source": [
    "Time and Amount are positive as per expectation and Class only contains 0 and 1 (with only 0.173% being the fraud cases). **Hence, Time, Amount and Class meet the value specific expectations**."
   ]
  },
  {
   "cell_type": "markdown",
   "id": "54a571c6",
   "metadata": {},
   "source": [
    "### 4.4 Scale of V1 - V28, Amount"
   ]
  },
  {
   "cell_type": "code",
   "execution_count": 9,
   "id": "65c27cfa",
   "metadata": {},
   "outputs": [
    {
     "data": {
      "text/html": [
       "<div>\n",
       "<style scoped>\n",
       "    .dataframe tbody tr th:only-of-type {\n",
       "        vertical-align: middle;\n",
       "    }\n",
       "\n",
       "    .dataframe tbody tr th {\n",
       "        vertical-align: top;\n",
       "    }\n",
       "\n",
       "    .dataframe thead th {\n",
       "        text-align: right;\n",
       "    }\n",
       "</style>\n",
       "<table border=\"1\" class=\"dataframe\">\n",
       "  <thead>\n",
       "    <tr style=\"text-align: right;\">\n",
       "      <th></th>\n",
       "      <th>V1</th>\n",
       "      <th>V2</th>\n",
       "      <th>V3</th>\n",
       "      <th>V4</th>\n",
       "      <th>V5</th>\n",
       "      <th>V6</th>\n",
       "      <th>V7</th>\n",
       "      <th>V8</th>\n",
       "      <th>V9</th>\n",
       "      <th>V10</th>\n",
       "      <th>...</th>\n",
       "      <th>V19</th>\n",
       "      <th>V20</th>\n",
       "      <th>V21</th>\n",
       "      <th>V22</th>\n",
       "      <th>V23</th>\n",
       "      <th>V24</th>\n",
       "      <th>V25</th>\n",
       "      <th>V26</th>\n",
       "      <th>V27</th>\n",
       "      <th>V28</th>\n",
       "    </tr>\n",
       "  </thead>\n",
       "  <tbody>\n",
       "    <tr>\n",
       "      <th>count</th>\n",
       "      <td>2.848070e+05</td>\n",
       "      <td>2.848070e+05</td>\n",
       "      <td>2.848070e+05</td>\n",
       "      <td>2.848070e+05</td>\n",
       "      <td>2.848070e+05</td>\n",
       "      <td>2.848070e+05</td>\n",
       "      <td>2.848070e+05</td>\n",
       "      <td>2.848070e+05</td>\n",
       "      <td>2.848070e+05</td>\n",
       "      <td>2.848070e+05</td>\n",
       "      <td>...</td>\n",
       "      <td>2.848070e+05</td>\n",
       "      <td>2.848070e+05</td>\n",
       "      <td>2.848070e+05</td>\n",
       "      <td>2.848070e+05</td>\n",
       "      <td>2.848070e+05</td>\n",
       "      <td>2.848070e+05</td>\n",
       "      <td>2.848070e+05</td>\n",
       "      <td>2.848070e+05</td>\n",
       "      <td>2.848070e+05</td>\n",
       "      <td>2.848070e+05</td>\n",
       "    </tr>\n",
       "    <tr>\n",
       "      <th>mean</th>\n",
       "      <td>3.918649e-15</td>\n",
       "      <td>5.682686e-16</td>\n",
       "      <td>-8.761736e-15</td>\n",
       "      <td>2.811118e-15</td>\n",
       "      <td>-1.552103e-15</td>\n",
       "      <td>2.040130e-15</td>\n",
       "      <td>-1.698953e-15</td>\n",
       "      <td>-1.893285e-16</td>\n",
       "      <td>-3.147640e-15</td>\n",
       "      <td>1.772925e-15</td>\n",
       "      <td>...</td>\n",
       "      <td>9.019919e-16</td>\n",
       "      <td>5.126845e-16</td>\n",
       "      <td>1.473120e-16</td>\n",
       "      <td>8.042109e-16</td>\n",
       "      <td>5.282512e-16</td>\n",
       "      <td>4.456271e-15</td>\n",
       "      <td>1.426896e-15</td>\n",
       "      <td>1.701640e-15</td>\n",
       "      <td>-3.662252e-16</td>\n",
       "      <td>-1.217809e-16</td>\n",
       "    </tr>\n",
       "    <tr>\n",
       "      <th>std</th>\n",
       "      <td>1.958696e+00</td>\n",
       "      <td>1.651309e+00</td>\n",
       "      <td>1.516255e+00</td>\n",
       "      <td>1.415869e+00</td>\n",
       "      <td>1.380247e+00</td>\n",
       "      <td>1.332271e+00</td>\n",
       "      <td>1.237094e+00</td>\n",
       "      <td>1.194353e+00</td>\n",
       "      <td>1.098632e+00</td>\n",
       "      <td>1.088850e+00</td>\n",
       "      <td>...</td>\n",
       "      <td>8.140405e-01</td>\n",
       "      <td>7.709250e-01</td>\n",
       "      <td>7.345240e-01</td>\n",
       "      <td>7.257016e-01</td>\n",
       "      <td>6.244603e-01</td>\n",
       "      <td>6.056471e-01</td>\n",
       "      <td>5.212781e-01</td>\n",
       "      <td>4.822270e-01</td>\n",
       "      <td>4.036325e-01</td>\n",
       "      <td>3.300833e-01</td>\n",
       "    </tr>\n",
       "    <tr>\n",
       "      <th>min</th>\n",
       "      <td>-5.640751e+01</td>\n",
       "      <td>-7.271573e+01</td>\n",
       "      <td>-4.832559e+01</td>\n",
       "      <td>-5.683171e+00</td>\n",
       "      <td>-1.137433e+02</td>\n",
       "      <td>-2.616051e+01</td>\n",
       "      <td>-4.355724e+01</td>\n",
       "      <td>-7.321672e+01</td>\n",
       "      <td>-1.343407e+01</td>\n",
       "      <td>-2.458826e+01</td>\n",
       "      <td>...</td>\n",
       "      <td>-7.213527e+00</td>\n",
       "      <td>-5.449772e+01</td>\n",
       "      <td>-3.483038e+01</td>\n",
       "      <td>-1.093314e+01</td>\n",
       "      <td>-4.480774e+01</td>\n",
       "      <td>-2.836627e+00</td>\n",
       "      <td>-1.029540e+01</td>\n",
       "      <td>-2.604551e+00</td>\n",
       "      <td>-2.256568e+01</td>\n",
       "      <td>-1.543008e+01</td>\n",
       "    </tr>\n",
       "    <tr>\n",
       "      <th>25%</th>\n",
       "      <td>-9.203734e-01</td>\n",
       "      <td>-5.985499e-01</td>\n",
       "      <td>-8.903648e-01</td>\n",
       "      <td>-8.486401e-01</td>\n",
       "      <td>-6.915971e-01</td>\n",
       "      <td>-7.682956e-01</td>\n",
       "      <td>-5.540759e-01</td>\n",
       "      <td>-2.086297e-01</td>\n",
       "      <td>-6.430976e-01</td>\n",
       "      <td>-5.354257e-01</td>\n",
       "      <td>...</td>\n",
       "      <td>-4.562989e-01</td>\n",
       "      <td>-2.117214e-01</td>\n",
       "      <td>-2.283949e-01</td>\n",
       "      <td>-5.423504e-01</td>\n",
       "      <td>-1.618463e-01</td>\n",
       "      <td>-3.545861e-01</td>\n",
       "      <td>-3.171451e-01</td>\n",
       "      <td>-3.269839e-01</td>\n",
       "      <td>-7.083953e-02</td>\n",
       "      <td>-5.295979e-02</td>\n",
       "    </tr>\n",
       "    <tr>\n",
       "      <th>50%</th>\n",
       "      <td>1.810880e-02</td>\n",
       "      <td>6.548556e-02</td>\n",
       "      <td>1.798463e-01</td>\n",
       "      <td>-1.984653e-02</td>\n",
       "      <td>-5.433583e-02</td>\n",
       "      <td>-2.741871e-01</td>\n",
       "      <td>4.010308e-02</td>\n",
       "      <td>2.235804e-02</td>\n",
       "      <td>-5.142873e-02</td>\n",
       "      <td>-9.291738e-02</td>\n",
       "      <td>...</td>\n",
       "      <td>3.734823e-03</td>\n",
       "      <td>-6.248109e-02</td>\n",
       "      <td>-2.945017e-02</td>\n",
       "      <td>6.781943e-03</td>\n",
       "      <td>-1.119293e-02</td>\n",
       "      <td>4.097606e-02</td>\n",
       "      <td>1.659350e-02</td>\n",
       "      <td>-5.213911e-02</td>\n",
       "      <td>1.342146e-03</td>\n",
       "      <td>1.124383e-02</td>\n",
       "    </tr>\n",
       "    <tr>\n",
       "      <th>75%</th>\n",
       "      <td>1.315642e+00</td>\n",
       "      <td>8.037239e-01</td>\n",
       "      <td>1.027196e+00</td>\n",
       "      <td>7.433413e-01</td>\n",
       "      <td>6.119264e-01</td>\n",
       "      <td>3.985649e-01</td>\n",
       "      <td>5.704361e-01</td>\n",
       "      <td>3.273459e-01</td>\n",
       "      <td>5.971390e-01</td>\n",
       "      <td>4.539234e-01</td>\n",
       "      <td>...</td>\n",
       "      <td>4.589494e-01</td>\n",
       "      <td>1.330408e-01</td>\n",
       "      <td>1.863772e-01</td>\n",
       "      <td>5.285536e-01</td>\n",
       "      <td>1.476421e-01</td>\n",
       "      <td>4.395266e-01</td>\n",
       "      <td>3.507156e-01</td>\n",
       "      <td>2.409522e-01</td>\n",
       "      <td>9.104512e-02</td>\n",
       "      <td>7.827995e-02</td>\n",
       "    </tr>\n",
       "    <tr>\n",
       "      <th>max</th>\n",
       "      <td>2.454930e+00</td>\n",
       "      <td>2.205773e+01</td>\n",
       "      <td>9.382558e+00</td>\n",
       "      <td>1.687534e+01</td>\n",
       "      <td>3.480167e+01</td>\n",
       "      <td>7.330163e+01</td>\n",
       "      <td>1.205895e+02</td>\n",
       "      <td>2.000721e+01</td>\n",
       "      <td>1.559499e+01</td>\n",
       "      <td>2.374514e+01</td>\n",
       "      <td>...</td>\n",
       "      <td>5.591971e+00</td>\n",
       "      <td>3.942090e+01</td>\n",
       "      <td>2.720284e+01</td>\n",
       "      <td>1.050309e+01</td>\n",
       "      <td>2.252841e+01</td>\n",
       "      <td>4.584549e+00</td>\n",
       "      <td>7.519589e+00</td>\n",
       "      <td>3.517346e+00</td>\n",
       "      <td>3.161220e+01</td>\n",
       "      <td>3.384781e+01</td>\n",
       "    </tr>\n",
       "  </tbody>\n",
       "</table>\n",
       "<p>8 rows × 28 columns</p>\n",
       "</div>"
      ],
      "text/plain": [
       "                 V1            V2            V3            V4            V5  \\\n",
       "count  2.848070e+05  2.848070e+05  2.848070e+05  2.848070e+05  2.848070e+05   \n",
       "mean   3.918649e-15  5.682686e-16 -8.761736e-15  2.811118e-15 -1.552103e-15   \n",
       "std    1.958696e+00  1.651309e+00  1.516255e+00  1.415869e+00  1.380247e+00   \n",
       "min   -5.640751e+01 -7.271573e+01 -4.832559e+01 -5.683171e+00 -1.137433e+02   \n",
       "25%   -9.203734e-01 -5.985499e-01 -8.903648e-01 -8.486401e-01 -6.915971e-01   \n",
       "50%    1.810880e-02  6.548556e-02  1.798463e-01 -1.984653e-02 -5.433583e-02   \n",
       "75%    1.315642e+00  8.037239e-01  1.027196e+00  7.433413e-01  6.119264e-01   \n",
       "max    2.454930e+00  2.205773e+01  9.382558e+00  1.687534e+01  3.480167e+01   \n",
       "\n",
       "                 V6            V7            V8            V9           V10  \\\n",
       "count  2.848070e+05  2.848070e+05  2.848070e+05  2.848070e+05  2.848070e+05   \n",
       "mean   2.040130e-15 -1.698953e-15 -1.893285e-16 -3.147640e-15  1.772925e-15   \n",
       "std    1.332271e+00  1.237094e+00  1.194353e+00  1.098632e+00  1.088850e+00   \n",
       "min   -2.616051e+01 -4.355724e+01 -7.321672e+01 -1.343407e+01 -2.458826e+01   \n",
       "25%   -7.682956e-01 -5.540759e-01 -2.086297e-01 -6.430976e-01 -5.354257e-01   \n",
       "50%   -2.741871e-01  4.010308e-02  2.235804e-02 -5.142873e-02 -9.291738e-02   \n",
       "75%    3.985649e-01  5.704361e-01  3.273459e-01  5.971390e-01  4.539234e-01   \n",
       "max    7.330163e+01  1.205895e+02  2.000721e+01  1.559499e+01  2.374514e+01   \n",
       "\n",
       "       ...           V19           V20           V21           V22  \\\n",
       "count  ...  2.848070e+05  2.848070e+05  2.848070e+05  2.848070e+05   \n",
       "mean   ...  9.019919e-16  5.126845e-16  1.473120e-16  8.042109e-16   \n",
       "std    ...  8.140405e-01  7.709250e-01  7.345240e-01  7.257016e-01   \n",
       "min    ... -7.213527e+00 -5.449772e+01 -3.483038e+01 -1.093314e+01   \n",
       "25%    ... -4.562989e-01 -2.117214e-01 -2.283949e-01 -5.423504e-01   \n",
       "50%    ...  3.734823e-03 -6.248109e-02 -2.945017e-02  6.781943e-03   \n",
       "75%    ...  4.589494e-01  1.330408e-01  1.863772e-01  5.285536e-01   \n",
       "max    ...  5.591971e+00  3.942090e+01  2.720284e+01  1.050309e+01   \n",
       "\n",
       "                V23           V24           V25           V26           V27  \\\n",
       "count  2.848070e+05  2.848070e+05  2.848070e+05  2.848070e+05  2.848070e+05   \n",
       "mean   5.282512e-16  4.456271e-15  1.426896e-15  1.701640e-15 -3.662252e-16   \n",
       "std    6.244603e-01  6.056471e-01  5.212781e-01  4.822270e-01  4.036325e-01   \n",
       "min   -4.480774e+01 -2.836627e+00 -1.029540e+01 -2.604551e+00 -2.256568e+01   \n",
       "25%   -1.618463e-01 -3.545861e-01 -3.171451e-01 -3.269839e-01 -7.083953e-02   \n",
       "50%   -1.119293e-02  4.097606e-02  1.659350e-02 -5.213911e-02  1.342146e-03   \n",
       "75%    1.476421e-01  4.395266e-01  3.507156e-01  2.409522e-01  9.104512e-02   \n",
       "max    2.252841e+01  4.584549e+00  7.519589e+00  3.517346e+00  3.161220e+01   \n",
       "\n",
       "                V28  \n",
       "count  2.848070e+05  \n",
       "mean  -1.217809e-16  \n",
       "std    3.300833e-01  \n",
       "min   -1.543008e+01  \n",
       "25%   -5.295979e-02  \n",
       "50%    1.124383e-02  \n",
       "75%    7.827995e-02  \n",
       "max    3.384781e+01  \n",
       "\n",
       "[8 rows x 28 columns]"
      ]
     },
     "execution_count": 9,
     "metadata": {},
     "output_type": "execute_result"
    }
   ],
   "source": [
    "data.drop(['Time','Amount','Class'], axis=1).describe()"
   ]
  },
  {
   "cell_type": "code",
   "execution_count": 10,
   "id": "b75eb564",
   "metadata": {},
   "outputs": [
    {
     "data": {
      "image/png": "[encoded data removed]",
      "text/plain": [
       "<Figure size 1440x360 with 1 Axes>"
      ]
     },
     "metadata": {
      "needs_background": "light"
     },
     "output_type": "display_data"
    }
   ],
   "source": [
    "fig, ax = plt.subplots(figsize=(20,5))\n",
    "sns.boxplot(data=data.drop(['Time','Amount','Class'], axis=1), orient='v', showfliers=False, ax=ax);"
   ]
  },
  {
   "cell_type": "markdown",
   "id": "6d8ccc0c",
   "metadata": {},
   "source": [
    "V1-V28 all have near 0 mean which is expected for properly PCA transformed features."
   ]
  },
  {
   "cell_type": "markdown",
   "id": "365773bf",
   "metadata": {},
   "source": [
    "## 5 Test-train split"
   ]
  },
  {
   "cell_type": "code",
   "execution_count": 5,
   "id": "2a2d2bf4",
   "metadata": {
    "scrolled": true
   },
   "outputs": [],
   "source": [
    "X_train, X_test, y_train, y_test = train_test_split(data.drop(['Class'], axis=1), data['Class'], test_size=0.25, stratify=data['Class'], random_state=42)"
   ]
  },
  {
   "cell_type": "markdown",
   "id": "35bb5762",
   "metadata": {},
   "source": [
    "## 6. Feature engineering"
   ]
  },
  {
   "cell_type": "markdown",
   "id": "d274c96b",
   "metadata": {},
   "source": [
    "### 6.1 Scaling Time and Amount"
   ]
  },
  {
   "cell_type": "code",
   "execution_count": 6,
   "id": "fd9a5ee1",
   "metadata": {},
   "outputs": [],
   "source": [
    "time_amount_scaler = StandardScaler().fit(X_train[['Time','Amount']])"
   ]
  },
  {
   "cell_type": "code",
   "execution_count": 7,
   "id": "f78920b7",
   "metadata": {},
   "outputs": [],
   "source": [
    "X_train[time_amount_scaler.feature_names_in_] = time_amount_scaler.transform(X_train[time_amount_scaler.feature_names_in_])"
   ]
  },
  {
   "cell_type": "code",
   "execution_count": 8,
   "id": "ff576515",
   "metadata": {
    "scrolled": true
   },
   "outputs": [
    {
     "data": {
      "text/html": [
       "<div>\n",
       "<style scoped>\n",
       "    .dataframe tbody tr th:only-of-type {\n",
       "        vertical-align: middle;\n",
       "    }\n",
       "\n",
       "    .dataframe tbody tr th {\n",
       "        vertical-align: top;\n",
       "    }\n",
       "\n",
       "    .dataframe thead th {\n",
       "        text-align: right;\n",
       "    }\n",
       "</style>\n",
       "<table border=\"1\" class=\"dataframe\">\n",
       "  <thead>\n",
       "    <tr style=\"text-align: right;\">\n",
       "      <th></th>\n",
       "      <th>Time</th>\n",
       "      <th>Amount</th>\n",
       "    </tr>\n",
       "  </thead>\n",
       "  <tbody>\n",
       "    <tr>\n",
       "      <th>count</th>\n",
       "      <td>2.136050e+05</td>\n",
       "      <td>2.136050e+05</td>\n",
       "    </tr>\n",
       "    <tr>\n",
       "      <th>mean</th>\n",
       "      <td>-3.605438e-17</td>\n",
       "      <td>7.081898e-17</td>\n",
       "    </tr>\n",
       "    <tr>\n",
       "      <th>std</th>\n",
       "      <td>1.000002e+00</td>\n",
       "      <td>1.000002e+00</td>\n",
       "    </tr>\n",
       "    <tr>\n",
       "      <th>min</th>\n",
       "      <td>-1.998112e+00</td>\n",
       "      <td>-3.521314e-01</td>\n",
       "    </tr>\n",
       "    <tr>\n",
       "      <th>25%</th>\n",
       "      <td>-8.561119e-01</td>\n",
       "      <td>-3.296184e-01</td>\n",
       "    </tr>\n",
       "    <tr>\n",
       "      <th>50%</th>\n",
       "      <td>-2.126131e-01</td>\n",
       "      <td>-2.643147e-01</td>\n",
       "    </tr>\n",
       "    <tr>\n",
       "      <th>75%</th>\n",
       "      <td>9.366303e-01</td>\n",
       "      <td>-4.277697e-02</td>\n",
       "    </tr>\n",
       "    <tr>\n",
       "      <th>max</th>\n",
       "      <td>1.640352e+00</td>\n",
       "      <td>1.021985e+02</td>\n",
       "    </tr>\n",
       "  </tbody>\n",
       "</table>\n",
       "</div>"
      ],
      "text/plain": [
       "               Time        Amount\n",
       "count  2.136050e+05  2.136050e+05\n",
       "mean  -3.605438e-17  7.081898e-17\n",
       "std    1.000002e+00  1.000002e+00\n",
       "min   -1.998112e+00 -3.521314e-01\n",
       "25%   -8.561119e-01 -3.296184e-01\n",
       "50%   -2.126131e-01 -2.643147e-01\n",
       "75%    9.366303e-01 -4.277697e-02\n",
       "max    1.640352e+00  1.021985e+02"
      ]
     },
     "execution_count": 8,
     "metadata": {},
     "output_type": "execute_result"
    }
   ],
   "source": [
    "X_train[['Time','Amount']].describe()"
   ]
  },
  {
   "cell_type": "markdown",
   "id": "3a2306dc",
   "metadata": {},
   "source": [
    "## 7. Experimental model fit"
   ]
  },
  {
   "cell_type": "markdown",
   "id": "b38558a6",
   "metadata": {},
   "source": [
    "We will try a bunch of models one by one and try to figure out how they perform. Then we will, if necessary, move towards ensembling different models."
   ]
  },
  {
   "cell_type": "code",
   "execution_count": 21,
   "id": "5757afa9",
   "metadata": {},
   "outputs": [],
   "source": [
    "# A common cv-split to be used across all model fits and made reproducible so that the splitwise comparison among models\n",
    "# is justified.\n",
    "\n",
    "# The inner_cv is used for grid-search and randomized-search hyper-parameter tuning\n",
    "# outer_cv is used in running cross-validation for test set performance estimates.\n",
    "\n",
    "inner_cv = StratifiedKFold(n_splits=3, shuffle=True, random_state=42)\n",
    "outer_cv = StratifiedKFold(n_splits=5, shuffle=True, random_state=42)"
   ]
  },
  {
   "cell_type": "markdown",
   "id": "ff0f8b2e",
   "metadata": {},
   "source": [
    "### 7.1  Logistic Regression"
   ]
  },
  {
   "cell_type": "markdown",
   "id": "44dc1c86",
   "metadata": {},
   "source": [
    "First we try out a linear model approach"
   ]
  },
  {
   "cell_type": "code",
   "execution_count": 39,
   "id": "a239a1f8",
   "metadata": {},
   "outputs": [],
   "source": [
    "logistic_regr_params = {\n",
    "    'class_weight': ['balanced', {0:0.51,1:50}, {0:0.501,1:500}],\n",
    "    'solver': ['lbfgs','saga','liblinear']\n",
    "}"
   ]
  },
  {
   "cell_type": "code",
   "execution_count": 41,
   "id": "687caf99",
   "metadata": {},
   "outputs": [],
   "source": [
    "logistic_regr = GridSearchCV(\n",
    "    estimator=LogisticRegression(random_state=42, multi_class='ovr', max_iter=1000),\n",
    "    param_grid=logistic_regr_params,\n",
    "    scoring='roc_auc',\n",
    "    cv=inner_cv,\n",
    "    verbose=1,\n",
    "    n_jobs=-1\n",
    ")"
   ]
  },
  {
   "cell_type": "code",
   "execution_count": 42,
   "id": "659e2601",
   "metadata": {},
   "outputs": [
    {
     "name": "stderr",
     "output_type": "stream",
     "text": [
      "[Parallel(n_jobs=1)]: Using backend SequentialBackend with 1 concurrent workers.\n"
     ]
    },
    {
     "name": "stdout",
     "output_type": "stream",
     "text": [
      "[CV] START .....................................................................\n",
      "Fitting 3 folds for each of 9 candidates, totalling 27 fits\n",
      "[CV] END ......................................., score=0.971 total time=31.0min\n",
      "[CV] START .....................................................................\n",
      "Fitting 3 folds for each of 9 candidates, totalling 27 fits\n"
     ]
    },
    {
     "name": "stderr",
     "output_type": "stream",
     "text": [
      "[Parallel(n_jobs=1)]: Done   1 out of   1 | elapsed: 31.0min remaining:    0.0s\n",
      "C:\\Users\\bubai\\anaconda3\\lib\\site-packages\\joblib\\externals\\loky\\process_executor.py:688: UserWarning: A worker stopped while some jobs were given to the executor. This can be caused by a too short worker timeout or by a memory leak.\n",
      "  warnings.warn(\n"
     ]
    },
    {
     "name": "stdout",
     "output_type": "stream",
     "text": [
      "[CV] END ......................................., score=0.974 total time= 7.1min\n",
      "[CV] START .....................................................................\n",
      "Fitting 3 folds for each of 9 candidates, totalling 27 fits\n"
     ]
    },
    {
     "name": "stderr",
     "output_type": "stream",
     "text": [
      "[Parallel(n_jobs=1)]: Done   2 out of   2 | elapsed: 38.1min remaining:    0.0s\n",
      "C:\\Users\\bubai\\anaconda3\\lib\\site-packages\\sklearn\\linear_model\\_sag.py:352: ConvergenceWarning: The max_iter was reached which means the coef_ did not converge\n",
      "  warnings.warn(\n",
      "[Parallel(n_jobs=1)]: Done   3 out of   3 | elapsed: 46.8min remaining:    0.0s\n"
     ]
    },
    {
     "name": "stdout",
     "output_type": "stream",
     "text": [
      "[CV] END ......................................., score=0.990 total time= 8.7min\n",
      "[CV] START .....................................................................\n",
      "Fitting 3 folds for each of 9 candidates, totalling 27 fits\n",
      "[CV] END ......................................., score=0.983 total time= 7.3min\n",
      "[CV] START .....................................................................\n",
      "Fitting 3 folds for each of 9 candidates, totalling 27 fits\n"
     ]
    },
    {
     "name": "stderr",
     "output_type": "stream",
     "text": [
      "[Parallel(n_jobs=1)]: Done   4 out of   4 | elapsed: 54.1min remaining:    0.0s\n"
     ]
    },
    {
     "name": "stdout",
     "output_type": "stream",
     "text": [
      "[CV] END ......................................., score=0.979 total time= 5.1min\n"
     ]
    },
    {
     "name": "stderr",
     "output_type": "stream",
     "text": [
      "[Parallel(n_jobs=1)]: Done   5 out of   5 | elapsed: 59.1min remaining:    0.0s\n",
      "[Parallel(n_jobs=1)]: Done   5 out of   5 | elapsed: 59.1min finished\n"
     ]
    }
   ],
   "source": [
    "logistic_cv_results = cross_validate(\n",
    "                        estimator=logistic_regr,\n",
    "                        X=X_train,\n",
    "                        y=y_train,\n",
    "                        scoring='roc_auc',\n",
    "                        cv=outer_cv,\n",
    "                        return_estimator=True,\n",
    "                        verbose=10\n",
    ")"
   ]
  },
  {
   "cell_type": "code",
   "execution_count": 43,
   "id": "d34f7317",
   "metadata": {
    "scrolled": false
   },
   "outputs": [
    {
     "data": {
      "text/html": [
       "<div>\n",
       "<style scoped>\n",
       "    .dataframe tbody tr th:only-of-type {\n",
       "        vertical-align: middle;\n",
       "    }\n",
       "\n",
       "    .dataframe tbody tr th {\n",
       "        vertical-align: top;\n",
       "    }\n",
       "\n",
       "    .dataframe thead th {\n",
       "        text-align: right;\n",
       "    }\n",
       "</style>\n",
       "<table border=\"1\" class=\"dataframe\">\n",
       "  <thead>\n",
       "    <tr style=\"text-align: right;\">\n",
       "      <th></th>\n",
       "      <th>mean_fit_time</th>\n",
       "      <th>std_fit_time</th>\n",
       "      <th>mean_score_time</th>\n",
       "      <th>std_score_time</th>\n",
       "      <th>param_class_weight</th>\n",
       "      <th>param_solver</th>\n",
       "      <th>params</th>\n",
       "      <th>split0_test_score</th>\n",
       "      <th>split1_test_score</th>\n",
       "      <th>split2_test_score</th>\n",
       "      <th>mean_test_score</th>\n",
       "      <th>std_test_score</th>\n",
       "      <th>rank_test_score</th>\n",
       "    </tr>\n",
       "  </thead>\n",
       "  <tbody>\n",
       "    <tr>\n",
       "      <th>4</th>\n",
       "      <td>186.950941</td>\n",
       "      <td>0.163647</td>\n",
       "      <td>0.048130</td>\n",
       "      <td>0.004455</td>\n",
       "      <td>{0: 0.51, 1: 50}</td>\n",
       "      <td>saga</td>\n",
       "      <td>{'class_weight': {0: 0.51, 1: 50}, 'solver': '...</td>\n",
       "      <td>0.982163</td>\n",
       "      <td>0.933911</td>\n",
       "      <td>0.970602</td>\n",
       "      <td>0.962225</td>\n",
       "      <td>0.020570</td>\n",
       "      <td>1</td>\n",
       "    </tr>\n",
       "    <tr>\n",
       "      <th>4</th>\n",
       "      <td>166.417977</td>\n",
       "      <td>5.560908</td>\n",
       "      <td>0.046367</td>\n",
       "      <td>0.004168</td>\n",
       "      <td>{0: 0.51, 1: 50}</td>\n",
       "      <td>saga</td>\n",
       "      <td>{'class_weight': {0: 0.51, 1: 50}, 'solver': '...</td>\n",
       "      <td>0.954071</td>\n",
       "      <td>0.984413</td>\n",
       "      <td>0.984344</td>\n",
       "      <td>0.974276</td>\n",
       "      <td>0.014287</td>\n",
       "      <td>1</td>\n",
       "    </tr>\n",
       "    <tr>\n",
       "      <th>5</th>\n",
       "      <td>3.294656</td>\n",
       "      <td>0.190996</td>\n",
       "      <td>0.043446</td>\n",
       "      <td>0.005671</td>\n",
       "      <td>{0: 0.51, 1: 50}</td>\n",
       "      <td>liblinear</td>\n",
       "      <td>{'class_weight': {0: 0.51, 1: 50}, 'solver': '...</td>\n",
       "      <td>0.980846</td>\n",
       "      <td>0.969052</td>\n",
       "      <td>0.986568</td>\n",
       "      <td>0.978822</td>\n",
       "      <td>0.007293</td>\n",
       "      <td>1</td>\n",
       "    </tr>\n",
       "    <tr>\n",
       "      <th>5</th>\n",
       "      <td>4.478004</td>\n",
       "      <td>0.423991</td>\n",
       "      <td>0.051524</td>\n",
       "      <td>0.003768</td>\n",
       "      <td>{0: 0.51, 1: 50}</td>\n",
       "      <td>liblinear</td>\n",
       "      <td>{'class_weight': {0: 0.51, 1: 50}, 'solver': '...</td>\n",
       "      <td>0.986722</td>\n",
       "      <td>0.983377</td>\n",
       "      <td>0.982226</td>\n",
       "      <td>0.984108</td>\n",
       "      <td>0.001907</td>\n",
       "      <td>1</td>\n",
       "    </tr>\n",
       "    <tr>\n",
       "      <th>4</th>\n",
       "      <td>169.452215</td>\n",
       "      <td>42.389126</td>\n",
       "      <td>0.052141</td>\n",
       "      <td>0.000380</td>\n",
       "      <td>{0: 0.51, 1: 50}</td>\n",
       "      <td>saga</td>\n",
       "      <td>{'class_weight': {0: 0.51, 1: 50}, 'solver': '...</td>\n",
       "      <td>0.972105</td>\n",
       "      <td>0.968290</td>\n",
       "      <td>0.980566</td>\n",
       "      <td>0.973653</td>\n",
       "      <td>0.005130</td>\n",
       "      <td>1</td>\n",
       "    </tr>\n",
       "  </tbody>\n",
       "</table>\n",
       "</div>"
      ],
      "text/plain": [
       "   mean_fit_time  std_fit_time  mean_score_time  std_score_time  \\\n",
       "4     186.950941      0.163647         0.048130        0.004455   \n",
       "4     166.417977      5.560908         0.046367        0.004168   \n",
       "5       3.294656      0.190996         0.043446        0.005671   \n",
       "5       4.478004      0.423991         0.051524        0.003768   \n",
       "4     169.452215     42.389126         0.052141        0.000380   \n",
       "\n",
       "  param_class_weight param_solver  \\\n",
       "4   {0: 0.51, 1: 50}         saga   \n",
       "4   {0: 0.51, 1: 50}         saga   \n",
       "5   {0: 0.51, 1: 50}    liblinear   \n",
       "5   {0: 0.51, 1: 50}    liblinear   \n",
       "4   {0: 0.51, 1: 50}         saga   \n",
       "\n",
       "                                              params  split0_test_score  \\\n",
       "4  {'class_weight': {0: 0.51, 1: 50}, 'solver': '...           0.982163   \n",
       "4  {'class_weight': {0: 0.51, 1: 50}, 'solver': '...           0.954071   \n",
       "5  {'class_weight': {0: 0.51, 1: 50}, 'solver': '...           0.980846   \n",
       "5  {'class_weight': {0: 0.51, 1: 50}, 'solver': '...           0.986722   \n",
       "4  {'class_weight': {0: 0.51, 1: 50}, 'solver': '...           0.972105   \n",
       "\n",
       "   split1_test_score  split2_test_score  mean_test_score  std_test_score  \\\n",
       "4           0.933911           0.970602         0.962225        0.020570   \n",
       "4           0.984413           0.984344         0.974276        0.014287   \n",
       "5           0.969052           0.986568         0.978822        0.007293   \n",
       "5           0.983377           0.982226         0.984108        0.001907   \n",
       "4           0.968290           0.980566         0.973653        0.005130   \n",
       "\n",
       "   rank_test_score  \n",
       "4                1  \n",
       "4                1  \n",
       "5                1  \n",
       "5                1  \n",
       "4                1  "
      ]
     },
     "execution_count": 43,
     "metadata": {},
     "output_type": "execute_result"
    }
   ],
   "source": [
    "logistic_gridsearch_results = [pd.DataFrame(est.cv_results_) for est in logistic_cv_results['estimator']]\n",
    "reduce(lambda df1,df2: pd.concat([df1, df2]), logistic_gridsearch_results).sort_values(by='rank_test_score').head(5)"
   ]
  },
  {
   "cell_type": "markdown",
   "id": "8f763a9e",
   "metadata": {},
   "source": [
    "Hence the best parameters for logistic regression are `solver = saga` and `class_weight = {0:0.51, 1:50}`. We can investigate further for the `class_weight` (varying from **0.8/0.2 to 0.998/0.002**). This we will do using `RandomizedSearchCV`."
   ]
  },
  {
   "cell_type": "code",
   "execution_count": 44,
   "id": "2c766634",
   "metadata": {},
   "outputs": [],
   "source": [
    "X_0 = np.linspace(0.8, 0.998, 100)\n",
    "X_1 = np.linspace(0.2, 0.002, 100)\n",
    "class_weights_list = [{0:1/(x0*2), 1:1/(x1*2)} for x0,x1 in zip(X_0,X_1)]"
   ]
  },
  {
   "cell_type": "code",
   "execution_count": 45,
   "id": "acebe35d",
   "metadata": {
    "scrolled": true
   },
   "outputs": [
    {
     "name": "stderr",
     "output_type": "stream",
     "text": [
      "[Parallel(n_jobs=1)]: Using backend SequentialBackend with 1 concurrent workers.\n"
     ]
    },
    {
     "name": "stdout",
     "output_type": "stream",
     "text": [
      "[CV] START .....................................................................\n",
      "Fitting 3 folds for each of 20 candidates, totalling 60 fits\n"
     ]
    },
    {
     "name": "stderr",
     "output_type": "stream",
     "text": [
      "C:\\Users\\bubai\\anaconda3\\lib\\site-packages\\sklearn\\linear_model\\_sag.py:352: ConvergenceWarning: The max_iter was reached which means the coef_ did not converge\n",
      "  warnings.warn(\n",
      "[Parallel(n_jobs=1)]: Done   1 out of   1 | elapsed: 25.9min remaining:    0.0s\n"
     ]
    },
    {
     "name": "stdout",
     "output_type": "stream",
     "text": [
      "[CV] END ......................................., score=0.975 total time=25.8min\n",
      "[CV] START .....................................................................\n",
      "Fitting 3 folds for each of 20 candidates, totalling 60 fits\n"
     ]
    },
    {
     "name": "stderr",
     "output_type": "stream",
     "text": [
      "C:\\Users\\bubai\\anaconda3\\lib\\site-packages\\sklearn\\linear_model\\_sag.py:352: ConvergenceWarning: The max_iter was reached which means the coef_ did not converge\n",
      "  warnings.warn(\n",
      "[Parallel(n_jobs=1)]: Done   2 out of   2 | elapsed: 53.2min remaining:    0.0s\n"
     ]
    },
    {
     "name": "stdout",
     "output_type": "stream",
     "text": [
      "[CV] END ......................................., score=0.971 total time=27.3min\n",
      "[CV] START .....................................................................\n",
      "Fitting 3 folds for each of 20 candidates, totalling 60 fits\n"
     ]
    },
    {
     "name": "stderr",
     "output_type": "stream",
     "text": [
      "C:\\Users\\bubai\\anaconda3\\lib\\site-packages\\sklearn\\linear_model\\_sag.py:352: ConvergenceWarning: The max_iter was reached which means the coef_ did not converge\n",
      "  warnings.warn(\n",
      "[Parallel(n_jobs=1)]: Done   3 out of   3 | elapsed: 80.0min remaining:    0.0s\n"
     ]
    },
    {
     "name": "stdout",
     "output_type": "stream",
     "text": [
      "[CV] END ......................................., score=0.990 total time=26.8min\n",
      "[CV] START .....................................................................\n",
      "Fitting 3 folds for each of 20 candidates, totalling 60 fits\n"
     ]
    },
    {
     "name": "stderr",
     "output_type": "stream",
     "text": [
      "C:\\Users\\bubai\\anaconda3\\lib\\site-packages\\sklearn\\linear_model\\_sag.py:352: ConvergenceWarning: The max_iter was reached which means the coef_ did not converge\n",
      "  warnings.warn(\n",
      "[Parallel(n_jobs=1)]: Done   4 out of   4 | elapsed: 263.6min remaining:    0.0s\n"
     ]
    },
    {
     "name": "stdout",
     "output_type": "stream",
     "text": [
      "[CV] END ......................................, score=0.983 total time=183.6min\n",
      "[CV] START .....................................................................\n",
      "Fitting 3 folds for each of 20 candidates, totalling 60 fits\n",
      "[CV] END ......................................., score=0.981 total time=29.0min\n"
     ]
    },
    {
     "name": "stderr",
     "output_type": "stream",
     "text": [
      "C:\\Users\\bubai\\anaconda3\\lib\\site-packages\\sklearn\\linear_model\\_sag.py:352: ConvergenceWarning: The max_iter was reached which means the coef_ did not converge\n",
      "  warnings.warn(\n",
      "[Parallel(n_jobs=1)]: Done   5 out of   5 | elapsed: 292.6min remaining:    0.0s\n",
      "[Parallel(n_jobs=1)]: Done   5 out of   5 | elapsed: 292.6min finished\n"
     ]
    }
   ],
   "source": [
    "logistic_regr_params = {\n",
    "    'class_weight': class_weights_list\n",
    "}\n",
    "\n",
    "logistic_regr = RandomizedSearchCV(\n",
    "    estimator=LogisticRegression(random_state=42, multi_class='ovr', solver='saga', max_iter=1000),\n",
    "    param_distributions=logistic_regr_params,\n",
    "    n_iter=20,\n",
    "    scoring='roc_auc',\n",
    "    cv=inner_cv,\n",
    "    verbose=1,\n",
    "    n_jobs=-1\n",
    ")\n",
    "\n",
    "logistic_cv_results = cross_validate(\n",
    "                        estimator=logistic_regr,\n",
    "                        X=X_train,\n",
    "                        y=y_train,\n",
    "                        scoring='roc_auc',\n",
    "                        cv=outer_cv,\n",
    "                        return_estimator=True,\n",
    "                        verbose=10\n",
    ")"
   ]
  },
  {
   "cell_type": "code",
   "execution_count": 48,
   "id": "7f2c80d6",
   "metadata": {
    "scrolled": true
   },
   "outputs": [
    {
     "data": {
      "text/html": [
       "<div>\n",
       "<style scoped>\n",
       "    .dataframe tbody tr th:only-of-type {\n",
       "        vertical-align: middle;\n",
       "    }\n",
       "\n",
       "    .dataframe tbody tr th {\n",
       "        vertical-align: top;\n",
       "    }\n",
       "\n",
       "    .dataframe thead th {\n",
       "        text-align: right;\n",
       "    }\n",
       "</style>\n",
       "<table border=\"1\" class=\"dataframe\">\n",
       "  <thead>\n",
       "    <tr style=\"text-align: right;\">\n",
       "      <th></th>\n",
       "      <th>mean_fit_time</th>\n",
       "      <th>std_fit_time</th>\n",
       "      <th>mean_score_time</th>\n",
       "      <th>std_score_time</th>\n",
       "      <th>param_class_weight</th>\n",
       "      <th>params</th>\n",
       "      <th>split0_test_score</th>\n",
       "      <th>split1_test_score</th>\n",
       "      <th>split2_test_score</th>\n",
       "      <th>mean_test_score</th>\n",
       "      <th>std_test_score</th>\n",
       "      <th>rank_test_score</th>\n",
       "    </tr>\n",
       "  </thead>\n",
       "  <tbody>\n",
       "    <tr>\n",
       "      <th>1</th>\n",
       "      <td>166.343860</td>\n",
       "      <td>3.117080</td>\n",
       "      <td>0.079581</td>\n",
       "      <td>0.020739</td>\n",
       "      <td>{0: 0.625, 1: 2.5}</td>\n",
       "      <td>{'class_weight': {0: 0.625, 1: 2.5}}</td>\n",
       "      <td>0.978544</td>\n",
       "      <td>0.976261</td>\n",
       "      <td>0.992762</td>\n",
       "      <td>0.982522</td>\n",
       "      <td>0.007300</td>\n",
       "      <td>1</td>\n",
       "    </tr>\n",
       "    <tr>\n",
       "      <th>3</th>\n",
       "      <td>180.051104</td>\n",
       "      <td>0.700053</td>\n",
       "      <td>0.048378</td>\n",
       "      <td>0.002192</td>\n",
       "      <td>{0: 0.5070993914807302, 1: 35.71428571428568}</td>\n",
       "      <td>{'class_weight': {0: 0.5070993914807302, 1: 35...</td>\n",
       "      <td>0.987174</td>\n",
       "      <td>0.982974</td>\n",
       "      <td>0.982346</td>\n",
       "      <td>0.984164</td>\n",
       "      <td>0.002144</td>\n",
       "      <td>1</td>\n",
       "    </tr>\n",
       "    <tr>\n",
       "      <th>15</th>\n",
       "      <td>9208.134274</td>\n",
       "      <td>0.924650</td>\n",
       "      <td>0.057546</td>\n",
       "      <td>0.003763</td>\n",
       "      <td>{0: 0.6234413965087281, 1: 2.525252525252525}</td>\n",
       "      <td>{'class_weight': {0: 0.6234413965087281, 1: 2....</td>\n",
       "      <td>0.967071</td>\n",
       "      <td>0.986538</td>\n",
       "      <td>0.989439</td>\n",
       "      <td>0.981016</td>\n",
       "      <td>0.009932</td>\n",
       "      <td>1</td>\n",
       "    </tr>\n",
       "    <tr>\n",
       "      <th>1</th>\n",
       "      <td>173.841238</td>\n",
       "      <td>1.395959</td>\n",
       "      <td>0.076347</td>\n",
       "      <td>0.022803</td>\n",
       "      <td>{0: 0.6172839506172839, 1: 2.6315789473684212}</td>\n",
       "      <td>{'class_weight': {0: 0.6172839506172839, 1: 2....</td>\n",
       "      <td>0.981156</td>\n",
       "      <td>0.958609</td>\n",
       "      <td>0.975175</td>\n",
       "      <td>0.971647</td>\n",
       "      <td>0.009537</td>\n",
       "      <td>1</td>\n",
       "    </tr>\n",
       "    <tr>\n",
       "      <th>5</th>\n",
       "      <td>200.763728</td>\n",
       "      <td>3.369211</td>\n",
       "      <td>0.046844</td>\n",
       "      <td>0.004128</td>\n",
       "      <td>{0: 0.6097560975609756, 1: 2.7777777777777772}</td>\n",
       "      <td>{'class_weight': {0: 0.6097560975609756, 1: 2....</td>\n",
       "      <td>0.980685</td>\n",
       "      <td>0.972400</td>\n",
       "      <td>0.988089</td>\n",
       "      <td>0.980391</td>\n",
       "      <td>0.006408</td>\n",
       "      <td>1</td>\n",
       "    </tr>\n",
       "  </tbody>\n",
       "</table>\n",
       "</div>"
      ],
      "text/plain": [
       "    mean_fit_time  std_fit_time  mean_score_time  std_score_time  \\\n",
       "1      166.343860      3.117080         0.079581        0.020739   \n",
       "3      180.051104      0.700053         0.048378        0.002192   \n",
       "15    9208.134274      0.924650         0.057546        0.003763   \n",
       "1      173.841238      1.395959         0.076347        0.022803   \n",
       "5      200.763728      3.369211         0.046844        0.004128   \n",
       "\n",
       "                                param_class_weight  \\\n",
       "1                               {0: 0.625, 1: 2.5}   \n",
       "3    {0: 0.5070993914807302, 1: 35.71428571428568}   \n",
       "15   {0: 0.6234413965087281, 1: 2.525252525252525}   \n",
       "1   {0: 0.6172839506172839, 1: 2.6315789473684212}   \n",
       "5   {0: 0.6097560975609756, 1: 2.7777777777777772}   \n",
       "\n",
       "                                               params  split0_test_score  \\\n",
       "1                {'class_weight': {0: 0.625, 1: 2.5}}           0.978544   \n",
       "3   {'class_weight': {0: 0.5070993914807302, 1: 35...           0.987174   \n",
       "15  {'class_weight': {0: 0.6234413965087281, 1: 2....           0.967071   \n",
       "1   {'class_weight': {0: 0.6172839506172839, 1: 2....           0.981156   \n",
       "5   {'class_weight': {0: 0.6097560975609756, 1: 2....           0.980685   \n",
       "\n",
       "    split1_test_score  split2_test_score  mean_test_score  std_test_score  \\\n",
       "1            0.976261           0.992762         0.982522        0.007300   \n",
       "3            0.982974           0.982346         0.984164        0.002144   \n",
       "15           0.986538           0.989439         0.981016        0.009932   \n",
       "1            0.958609           0.975175         0.971647        0.009537   \n",
       "5            0.972400           0.988089         0.980391        0.006408   \n",
       "\n",
       "    rank_test_score  \n",
       "1                 1  \n",
       "3                 1  \n",
       "15                1  \n",
       "1                 1  \n",
       "5                 1  "
      ]
     },
     "execution_count": 48,
     "metadata": {},
     "output_type": "execute_result"
    }
   ],
   "source": [
    "logistic_gridsearch_results = [pd.DataFrame(est.cv_results_) for est in logistic_cv_results['estimator']]\n",
    "reduce(lambda df1,df2: pd.concat([df1, df2]), logistic_gridsearch_results).sort_values(by='rank_test_score').head(5)"
   ]
  },
  {
   "cell_type": "markdown",
   "id": "ba4b0d14",
   "metadata": {},
   "source": [
    "Therefore, a good value for `class_weight` will be `{0:0.60, 1:3.0}` as found from the Randomized search. However, the `ConvergenceWarning` gives the impression that logistic regression might be unastable for this data-set. So we try to use linear discriminant analysis, which also has a linear boundary, because of its stability."
   ]
  },
  {
   "cell_type": "markdown",
   "id": "2fb721ec",
   "metadata": {},
   "source": [
    "#### 7.1.1 Overfit Underfit check"
   ]
  },
  {
   "cell_type": "markdown",
   "id": "d261fe07",
   "metadata": {},
   "source": [
    "We will check the whether there is an overfit/underfit scenario; that might help in explaining the initial cause of the relatively poorer fits in the 5-fold `outer_cv`."
   ]
  },
  {
   "cell_type": "code",
   "execution_count": 33,
   "id": "2f61cda7",
   "metadata": {
    "scrolled": true
   },
   "outputs": [
    {
     "name": "stderr",
     "output_type": "stream",
     "text": [
      "[Parallel(n_jobs=-1)]: Using backend LokyBackend with 8 concurrent workers.\n",
      "[Parallel(n_jobs=-1)]: Done   2 out of   5 | elapsed:  2.3min remaining:  3.5min\n",
      "[Parallel(n_jobs=-1)]: Done   3 out of   5 | elapsed:  2.3min remaining:  1.6min\n",
      "[Parallel(n_jobs=-1)]: Done   5 out of   5 | elapsed:  2.5min remaining:    0.0s\n",
      "[Parallel(n_jobs=-1)]: Done   5 out of   5 | elapsed:  2.5min finished\n"
     ]
    },
    {
     "data": {
      "image/png": "[encoded data removed]",
      "text/plain": [
       "<Figure size 432x288 with 1 Axes>"
      ]
     },
     "metadata": {
      "needs_background": "light"
     },
     "output_type": "display_data"
    }
   ],
   "source": [
    "logisticrgr_cv_results = cross_validate(\n",
    "    LogisticRegression(solver='saga', class_weight={0:0.60, 1:3.0}, max_iter=1000, random_state=42, multi_class='ovr'),\n",
    "    X=X_train,\n",
    "    y=y_train,\n",
    "    scoring='roc_auc',\n",
    "    cv=outer_cv,\n",
    "    return_estimator=True,\n",
    "    return_train_score=True,\n",
    "    verbose=10,\n",
    "    n_jobs=-1\n",
    ")\n",
    "\n",
    "fig, ax = plt.subplots()\n",
    "ax.plot(logisticrgr_cv_results['test_score'], 'r^', label='test_scores')\n",
    "ax.plot(logisticrgr_cv_results['train_score'], 'b^', label='train_scores')\n",
    "ax.set_xlabel('k-fold splits')\n",
    "ax.set_ylabel('roc_auc')\n",
    "ax.set_xticks(range(5))\n",
    "ax.legend()\n",
    "ax.set_title('Fig 1. Comparing training and test scores for logistic regression');"
   ]
  },
  {
   "cell_type": "markdown",
   "id": "037ca7fb",
   "metadata": {},
   "source": [
    "### 7.2 Linear Discriminant Analysis"
   ]
  },
  {
   "cell_type": "code",
   "execution_count": 24,
   "id": "06ca975c",
   "metadata": {},
   "outputs": [
    {
     "name": "stderr",
     "output_type": "stream",
     "text": [
      "[Parallel(n_jobs=1)]: Using backend SequentialBackend with 1 concurrent workers.\n"
     ]
    },
    {
     "name": "stdout",
     "output_type": "stream",
     "text": [
      "[CV] START .....................................................................\n",
      "Fitting 3 folds for each of 13 candidates, totalling 39 fits\n",
      "[CV] END ......................................., score=0.982 total time=   6.0s\n",
      "[CV] START .....................................................................\n",
      "Fitting 3 folds for each of 13 candidates, totalling 39 fits\n"
     ]
    },
    {
     "name": "stderr",
     "output_type": "stream",
     "text": [
      "[Parallel(n_jobs=1)]: Done   1 out of   1 | elapsed:    6.0s remaining:    0.0s\n"
     ]
    },
    {
     "name": "stdout",
     "output_type": "stream",
     "text": [
      "[CV] END ......................................., score=0.975 total time=   4.0s\n",
      "[CV] START .....................................................................\n",
      "Fitting 3 folds for each of 13 candidates, totalling 39 fits\n"
     ]
    },
    {
     "name": "stderr",
     "output_type": "stream",
     "text": [
      "[Parallel(n_jobs=1)]: Done   2 out of   2 | elapsed:   10.1s remaining:    0.0s\n"
     ]
    },
    {
     "name": "stdout",
     "output_type": "stream",
     "text": [
      "[CV] END ......................................., score=0.990 total time=   4.0s\n",
      "[CV] START .....................................................................\n",
      "Fitting 3 folds for each of 13 candidates, totalling 39 fits\n"
     ]
    },
    {
     "name": "stderr",
     "output_type": "stream",
     "text": [
      "[Parallel(n_jobs=1)]: Done   3 out of   3 | elapsed:   14.2s remaining:    0.0s\n"
     ]
    },
    {
     "name": "stdout",
     "output_type": "stream",
     "text": [
      "[CV] END ......................................., score=0.981 total time=   4.2s\n",
      "[CV] START .....................................................................\n",
      "Fitting 3 folds for each of 13 candidates, totalling 39 fits\n"
     ]
    },
    {
     "name": "stderr",
     "output_type": "stream",
     "text": [
      "[Parallel(n_jobs=1)]: Done   4 out of   4 | elapsed:   18.6s remaining:    0.0s\n"
     ]
    },
    {
     "name": "stdout",
     "output_type": "stream",
     "text": [
      "[CV] END ......................................., score=0.979 total time=   4.0s\n"
     ]
    },
    {
     "name": "stderr",
     "output_type": "stream",
     "text": [
      "[Parallel(n_jobs=1)]: Done   5 out of   5 | elapsed:   22.7s remaining:    0.0s\n",
      "[Parallel(n_jobs=1)]: Done   5 out of   5 | elapsed:   22.7s finished\n"
     ]
    },
    {
     "data": {
      "text/html": [
       "<div>\n",
       "<style scoped>\n",
       "    .dataframe tbody tr th:only-of-type {\n",
       "        vertical-align: middle;\n",
       "    }\n",
       "\n",
       "    .dataframe tbody tr th {\n",
       "        vertical-align: top;\n",
       "    }\n",
       "\n",
       "    .dataframe thead th {\n",
       "        text-align: right;\n",
       "    }\n",
       "</style>\n",
       "<table border=\"1\" class=\"dataframe\">\n",
       "  <thead>\n",
       "    <tr style=\"text-align: right;\">\n",
       "      <th></th>\n",
       "      <th>mean_fit_time</th>\n",
       "      <th>std_fit_time</th>\n",
       "      <th>mean_score_time</th>\n",
       "      <th>std_score_time</th>\n",
       "      <th>param_shrinkage</th>\n",
       "      <th>param_solver</th>\n",
       "      <th>params</th>\n",
       "      <th>split0_test_score</th>\n",
       "      <th>split1_test_score</th>\n",
       "      <th>split2_test_score</th>\n",
       "      <th>mean_test_score</th>\n",
       "      <th>std_test_score</th>\n",
       "      <th>rank_test_score</th>\n",
       "    </tr>\n",
       "  </thead>\n",
       "  <tbody>\n",
       "    <tr>\n",
       "      <th>0</th>\n",
       "      <td>0.587638</td>\n",
       "      <td>0.027133</td>\n",
       "      <td>0.038951</td>\n",
       "      <td>0.009260</td>\n",
       "      <td>None</td>\n",
       "      <td>lsqr</td>\n",
       "      <td>{'shrinkage': None, 'solver': 'lsqr'}</td>\n",
       "      <td>0.987874</td>\n",
       "      <td>0.974234</td>\n",
       "      <td>0.986064</td>\n",
       "      <td>0.982724</td>\n",
       "      <td>0.006049</td>\n",
       "      <td>1</td>\n",
       "    </tr>\n",
       "    <tr>\n",
       "      <th>1</th>\n",
       "      <td>0.592031</td>\n",
       "      <td>0.013652</td>\n",
       "      <td>0.034814</td>\n",
       "      <td>0.000857</td>\n",
       "      <td>None</td>\n",
       "      <td>eigen</td>\n",
       "      <td>{'shrinkage': None, 'solver': 'eigen'}</td>\n",
       "      <td>0.981816</td>\n",
       "      <td>0.976340</td>\n",
       "      <td>0.992401</td>\n",
       "      <td>0.983519</td>\n",
       "      <td>0.006667</td>\n",
       "      <td>1</td>\n",
       "    </tr>\n",
       "    <tr>\n",
       "      <th>0</th>\n",
       "      <td>0.521520</td>\n",
       "      <td>0.013935</td>\n",
       "      <td>0.038917</td>\n",
       "      <td>0.001582</td>\n",
       "      <td>None</td>\n",
       "      <td>lsqr</td>\n",
       "      <td>{'shrinkage': None, 'solver': 'lsqr'}</td>\n",
       "      <td>0.981816</td>\n",
       "      <td>0.976340</td>\n",
       "      <td>0.992401</td>\n",
       "      <td>0.983519</td>\n",
       "      <td>0.006667</td>\n",
       "      <td>1</td>\n",
       "    </tr>\n",
       "    <tr>\n",
       "      <th>12</th>\n",
       "      <td>0.712186</td>\n",
       "      <td>0.032970</td>\n",
       "      <td>0.022452</td>\n",
       "      <td>0.004218</td>\n",
       "      <td>NaN</td>\n",
       "      <td>svd</td>\n",
       "      <td>{'solver': 'svd'}</td>\n",
       "      <td>0.987874</td>\n",
       "      <td>0.974234</td>\n",
       "      <td>0.986064</td>\n",
       "      <td>0.982724</td>\n",
       "      <td>0.006049</td>\n",
       "      <td>1</td>\n",
       "    </tr>\n",
       "    <tr>\n",
       "      <th>1</th>\n",
       "      <td>0.597654</td>\n",
       "      <td>0.009298</td>\n",
       "      <td>0.033202</td>\n",
       "      <td>0.002379</td>\n",
       "      <td>None</td>\n",
       "      <td>eigen</td>\n",
       "      <td>{'shrinkage': None, 'solver': 'eigen'}</td>\n",
       "      <td>0.979817</td>\n",
       "      <td>0.978767</td>\n",
       "      <td>0.973659</td>\n",
       "      <td>0.977414</td>\n",
       "      <td>0.002690</td>\n",
       "      <td>1</td>\n",
       "    </tr>\n",
       "  </tbody>\n",
       "</table>\n",
       "</div>"
      ],
      "text/plain": [
       "    mean_fit_time  std_fit_time  mean_score_time  std_score_time  \\\n",
       "0        0.587638      0.027133         0.038951        0.009260   \n",
       "1        0.592031      0.013652         0.034814        0.000857   \n",
       "0        0.521520      0.013935         0.038917        0.001582   \n",
       "12       0.712186      0.032970         0.022452        0.004218   \n",
       "1        0.597654      0.009298         0.033202        0.002379   \n",
       "\n",
       "   param_shrinkage param_solver                                  params  \\\n",
       "0             None         lsqr   {'shrinkage': None, 'solver': 'lsqr'}   \n",
       "1             None        eigen  {'shrinkage': None, 'solver': 'eigen'}   \n",
       "0             None         lsqr   {'shrinkage': None, 'solver': 'lsqr'}   \n",
       "12             NaN          svd                       {'solver': 'svd'}   \n",
       "1             None        eigen  {'shrinkage': None, 'solver': 'eigen'}   \n",
       "\n",
       "    split0_test_score  split1_test_score  split2_test_score  mean_test_score  \\\n",
       "0            0.987874           0.974234           0.986064         0.982724   \n",
       "1            0.981816           0.976340           0.992401         0.983519   \n",
       "0            0.981816           0.976340           0.992401         0.983519   \n",
       "12           0.987874           0.974234           0.986064         0.982724   \n",
       "1            0.979817           0.978767           0.973659         0.977414   \n",
       "\n",
       "    std_test_score  rank_test_score  \n",
       "0         0.006049                1  \n",
       "1         0.006667                1  \n",
       "0         0.006667                1  \n",
       "12        0.006049                1  \n",
       "1         0.002690                1  "
      ]
     },
     "execution_count": 24,
     "metadata": {},
     "output_type": "execute_result"
    }
   ],
   "source": [
    "lda_params = [\n",
    "    {\n",
    "        'solver': ['lsqr', 'eigen'],\n",
    "        'shrinkage': (None, 'auto',0.001, 0.1, 0.5, 0.9)\n",
    "    },\n",
    "    \n",
    "    {\n",
    "        'solver': ['svd']\n",
    "    }\n",
    "]\n",
    "\n",
    "lda = GridSearchCV(\n",
    "    estimator=LinearDiscriminantAnalysis(),\n",
    "    param_grid=lda_params,\n",
    "    scoring='roc_auc',\n",
    "    cv=inner_cv,\n",
    "    verbose=1,\n",
    "    n_jobs=-1\n",
    ")\n",
    "\n",
    "lda_cv_results = cross_validate(\n",
    "                        estimator=lda,\n",
    "                        X=X_train,\n",
    "                        y=y_train,\n",
    "                        scoring='roc_auc',\n",
    "                        cv=outer_cv,\n",
    "                        return_estimator=True,\n",
    "                        verbose=10\n",
    ")\n",
    "\n",
    "lda_gridsearch_results = [pd.DataFrame(est.cv_results_) for est in lda_cv_results['estimator']]\n",
    "reduce(lambda df1,df2: pd.concat([df1, df2]), lda_gridsearch_results).sort_values(by='rank_test_score').head(5)"
   ]
  },
  {
   "cell_type": "markdown",
   "id": "46d35397",
   "metadata": {},
   "source": [
    "Therefore, we decide to choose `solver=eigen` and `shrinkage=None`. `eigen` is preferred to `lsqr` because `eigen` generalizes well, both on relatively easy and hard-to-learn splits."
   ]
  },
  {
   "cell_type": "markdown",
   "id": "14fc9a9f",
   "metadata": {},
   "source": [
    "#### 7.2.1 Overfitting underfitting check"
   ]
  },
  {
   "cell_type": "code",
   "execution_count": 37,
   "id": "064080d7",
   "metadata": {},
   "outputs": [
    {
     "name": "stderr",
     "output_type": "stream",
     "text": [
      "[Parallel(n_jobs=-1)]: Using backend LokyBackend with 8 concurrent workers.\n",
      "[Parallel(n_jobs=-1)]: Done   2 out of   5 | elapsed:    0.7s remaining:    1.1s\n",
      "[Parallel(n_jobs=-1)]: Done   3 out of   5 | elapsed:    0.7s remaining:    0.5s\n",
      "[Parallel(n_jobs=-1)]: Done   5 out of   5 | elapsed:    0.8s remaining:    0.0s\n",
      "[Parallel(n_jobs=-1)]: Done   5 out of   5 | elapsed:    0.8s finished\n"
     ]
    },
    {
     "data": {
      "image/png": "[encoded data removed]",
      "text/plain": [
       "<Figure size 432x288 with 1 Axes>"
      ]
     },
     "metadata": {
      "needs_background": "light"
     },
     "output_type": "display_data"
    }
   ],
   "source": [
    "lda_cv_results = cross_validate(\n",
    "    LinearDiscriminantAnalysis(solver='eigen'),\n",
    "    X=X_train,\n",
    "    y=y_train,\n",
    "    scoring='roc_auc',\n",
    "    cv=outer_cv,\n",
    "    return_estimator=True,\n",
    "    return_train_score=True,\n",
    "    verbose=10,\n",
    "    n_jobs=-1\n",
    ")\n",
    "\n",
    "fig, ax = plt.subplots()\n",
    "ax.plot(lda_cv_results['test_score'], 'r^', label='test_scores')\n",
    "ax.plot(lda_cv_results['train_score'], 'b^', label='train_scores')\n",
    "ax.set_xlabel('k-fold splits')\n",
    "ax.set_ylabel('roc_auc')\n",
    "ax.set_xticks(range(5))\n",
    "ax.legend()\n",
    "ax.set_title('Fig 2. Comparing training and test scores for lda');"
   ]
  },
  {
   "cell_type": "markdown",
   "id": "48882a03",
   "metadata": {},
   "source": [
    "From both the figures 1 and 2 the following observations can be made -\n",
    "\n",
    "<ol>\n",
    "        <li>Linear discriminant analysis seems to be a better choice, in terms of generalization capacity. Besides, both have nearly equal mean test scores over the cv-splits.</li>\n",
    "        <li>The third split in both cases show a greater train error than test. This indicates that there might be some bias in the linear models that can be improved with more flexible models.</li>\n",
    "        <li>The second split in both cases show the largest drop from train to test. Hence there might be the presence of some outliers with high-leverage (because they have sufficient impact in the training and yet finally lead to bad generalization).</li>\n",
    "</ol>\n",
    "    \n",
    "We use some non-linear models hence. Because the linear discriminant model worked very well, quadratic discriminant models might work pretty well too."
   ]
  },
  {
   "cell_type": "markdown",
   "id": "ccf3fd25",
   "metadata": {},
   "source": [
    "### 7.3 Quadratic discriminant analysis"
   ]
  },
  {
   "cell_type": "code",
   "execution_count": 54,
   "id": "3c494e5a",
   "metadata": {},
   "outputs": [
    {
     "name": "stdout",
     "output_type": "stream",
     "text": [
      "489 ms ± 11.1 ms per loop (mean ± std. dev. of 7 runs, 1 loop each)\n"
     ]
    }
   ],
   "source": [
    "qda_params = {\n",
    "    'class_weight': class_weights_list\n",
    "}\n",
    "\n",
    "logistic_regr = RandomizedSearchCV(\n",
    "    estimator=LogisticRegression(random_state=42, multi_class='ovr', solver='saga', max_iter=1000),\n",
    "    param_distributions=logistic_regr_params,\n",
    "    n_iter=20,\n",
    "    scoring='roc_auc',\n",
    "    cv=inner_cv,\n",
    "    verbose=1,\n",
    "    n_jobs=-1\n",
    ")\n",
    "\n",
    "logistic_cv_results = cross_validate(\n",
    "                        estimator=logistic_regr,\n",
    "                        X=X_train,\n",
    "                        y=y_train,\n",
    "                        scoring='roc_auc',\n",
    "                        cv=outer_cv,\n",
    "                        return_estimator=True,\n",
    "                        verbose=10\n",
    ")"
   ]
  }
 ],
 "metadata": {
  "kernelspec": {
   "display_name": "Python 3 (ipykernel)",
   "language": "python",
   "name": "python3"
  },
  "language_info": {
   "codemirror_mode": {
    "name": "ipython",
    "version": 3
   },
   "file_extension": ".py",
   "mimetype": "text/x-python",
   "name": "python",
   "nbconvert_exporter": "python",
   "pygments_lexer": "ipython3",
   "version": "3.8.5"
  }
 },
 "nbformat": 4,
 "nbformat_minor": 5
}
